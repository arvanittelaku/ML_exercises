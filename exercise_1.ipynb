{
 "cells": [
  {
   "metadata": {
    "ExecuteTime": {
     "end_time": "2025-09-05T07:22:14.938867Z",
     "start_time": "2025-09-05T07:22:14.935789Z"
    }
   },
   "cell_type": "code",
   "source": [
    "import numpy as np\n",
    "import pandas as pd\n",
    "from sklearn.preprocessing import StandardScaler\n",
    "import matplotlib.pyplot as plt"
   ],
   "id": "48e2e918fef0686f",
   "outputs": [],
   "execution_count": 3
  },
  {
   "metadata": {
    "ExecuteTime": {
     "end_time": "2025-09-05T07:23:44.402485Z",
     "start_time": "2025-09-05T07:23:44.392779Z"
    }
   },
   "cell_type": "code",
   "source": "df = pd.read_excel('sample_dataset.xlsx') # reading the dataset",
   "id": "10566b389af0ba8b",
   "outputs": [],
   "execution_count": 6
  },
  {
   "metadata": {
    "ExecuteTime": {
     "end_time": "2025-09-05T07:23:51.231471Z",
     "start_time": "2025-09-05T07:23:51.226495Z"
    }
   },
   "cell_type": "code",
   "source": "print(df.head()) # printing the first 5 rows of the dataset",
   "id": "e14dbc211a3c4e35",
   "outputs": [
    {
     "name": "stdout",
     "output_type": "stream",
     "text": [
      "   Country   Age   Salary Purchased\n",
      "0   France  44.0  72000.0        No\n",
      "1    Spain  27.0  48000.0       Yes\n",
      "2  Germany  30.0  54000.0        No\n",
      "3    Spain  38.0  61000.0        No\n",
      "4  Germany  40.0      NaN       Yes\n"
     ]
    }
   ],
   "execution_count": 7
  },
  {
   "metadata": {
    "ExecuteTime": {
     "end_time": "2025-09-05T07:25:56.805772Z",
     "start_time": "2025-09-05T07:25:56.801505Z"
    }
   },
   "cell_type": "code",
   "source": [
    "X = df.iloc[:, :-1].values #locating the features\n",
    "y = df.iloc[:, -1].values #locating the target variable\n",
    "print(X)\n",
    "print(y)"
   ],
   "id": "86dc709ed6bed2d",
   "outputs": [
    {
     "name": "stdout",
     "output_type": "stream",
     "text": [
      "[['France' 44.0 72000.0]\n",
      " ['Spain' 27.0 48000.0]\n",
      " ['Germany' 30.0 54000.0]\n",
      " ['Spain' 38.0 61000.0]\n",
      " ['Germany' 40.0 nan]\n",
      " ['France' 35.0 58000.0]\n",
      " ['Spain' nan 52000.0]\n",
      " ['France' 48.0 79000.0]\n",
      " ['Germany' 50.0 83000.0]\n",
      " ['France' 37.0 67000.0]]\n",
      "['No' 'Yes' 'No' 'No' 'Yes' 'Yes' 'No' 'Yes' 'No' 'Yes']\n"
     ]
    }
   ],
   "execution_count": 9
  },
  {
   "metadata": {
    "ExecuteTime": {
     "end_time": "2025-09-05T07:28:26.665782Z",
     "start_time": "2025-09-05T07:28:26.661016Z"
    }
   },
   "cell_type": "code",
   "source": [
    "from sklearn.impute import SimpleImputer\n",
    "imputer = SimpleImputer(missing_values=np.nan,strategy='mean') #creating the imputer\n",
    "X[:, 1:3] = imputer.fit_transform(X[:, 1:3]) #imputing the missing values with the mean of the column\n",
    "print(X)"
   ],
   "id": "e55644b5f48b2405",
   "outputs": [
    {
     "name": "stdout",
     "output_type": "stream",
     "text": [
      "[['France' 44.0 72000.0]\n",
      " ['Spain' 27.0 48000.0]\n",
      " ['Germany' 30.0 54000.0]\n",
      " ['Spain' 38.0 61000.0]\n",
      " ['Germany' 40.0 63777.77777777778]\n",
      " ['France' 35.0 58000.0]\n",
      " ['Spain' 38.77777777777778 52000.0]\n",
      " ['France' 48.0 79000.0]\n",
      " ['Germany' 50.0 83000.0]\n",
      " ['France' 37.0 67000.0]]\n"
     ]
    }
   ],
   "execution_count": 11
  },
  {
   "metadata": {
    "ExecuteTime": {
     "end_time": "2025-09-05T07:34:38.128613Z",
     "start_time": "2025-09-05T07:34:38.122627Z"
    }
   },
   "cell_type": "code",
   "source": [
    "#encoding the categorical data\n",
    "from sklearn.preprocessing import OneHotEncoder\n",
    "from sklearn.compose import ColumnTransformer\n",
    "ct = ColumnTransformer( #creating the column transformer\n",
    "    transformers=[('encoder', OneHotEncoder(), [0])], #encoding the first column\n",
    "    remainder='passthrough' #passing through the rest of the columns\n",
    ")\n",
    "X = ct.fit_transform(X)\n",
    "print(X)"
   ],
   "id": "6b43b9bef22c63f4",
   "outputs": [
    {
     "name": "stdout",
     "output_type": "stream",
     "text": [
      "[[1.0 0.0 0.0 44.0 72000.0]\n",
      " [0.0 0.0 1.0 27.0 48000.0]\n",
      " [0.0 1.0 0.0 30.0 54000.0]\n",
      " [0.0 0.0 1.0 38.0 61000.0]\n",
      " [0.0 1.0 0.0 40.0 63777.77777777778]\n",
      " [1.0 0.0 0.0 35.0 58000.0]\n",
      " [0.0 0.0 1.0 38.77777777777778 52000.0]\n",
      " [1.0 0.0 0.0 48.0 79000.0]\n",
      " [0.0 1.0 0.0 50.0 83000.0]\n",
      " [1.0 0.0 0.0 37.0 67000.0]]\n"
     ]
    }
   ],
   "execution_count": 13
  },
  {
   "metadata": {
    "ExecuteTime": {
     "end_time": "2025-09-05T07:36:04.915039Z",
     "start_time": "2025-09-05T07:36:04.911505Z"
    }
   },
   "cell_type": "code",
   "source": [
    "#label encoding the target variable\n",
    "from sklearn.preprocessing import LabelEncoder\n",
    "le = LabelEncoder() #creating the label encoder\n",
    "y = le.fit_transform(y) #label encoding the target variable\n",
    "print(y)"
   ],
   "id": "65e109e714a4abb2",
   "outputs": [
    {
     "name": "stdout",
     "output_type": "stream",
     "text": [
      "[0 1 0 0 1 1 0 1 0 1]\n"
     ]
    }
   ],
   "execution_count": 16
  },
  {
   "metadata": {
    "ExecuteTime": {
     "end_time": "2025-09-05T07:36:47.749361Z",
     "start_time": "2025-09-05T07:36:47.745412Z"
    }
   },
   "cell_type": "code",
   "source": [
    "#splitting the dataset into training and test sets\n",
    "from sklearn.model_selection import train_test_split\n",
    "X_train, X_test, y_train, y_test = train_test_split(X, y, test_size = 0.2, random_state = 42) #splitting the dataset into training and test sets, test size is 20% of the dataset, random state is 42 for reproducibility"
   ],
   "id": "ac46e9ff5bb436c6",
   "outputs": [],
   "execution_count": 17
  },
  {
   "metadata": {
    "ExecuteTime": {
     "end_time": "2025-09-05T07:41:44.777418Z",
     "start_time": "2025-09-05T07:41:44.772749Z"
    }
   },
   "cell_type": "code",
   "source": [
    "#feature scaling\n",
    "scaler = StandardScaler() #creating the scaler\n",
    "X_train[:, 3:] = scaler.fit_transform(X_train[:, 3:]) #fitting and transforming the training set\n",
    "X_test[:, 3:] = scaler.transform(X_test[:, 3:]) #transforming the test set\n"
   ],
   "id": "375a28c61151e1b",
   "outputs": [
    {
     "name": "stdout",
     "output_type": "stream",
     "text": [
      "[[1.0 0.0 0.0 -0.7529426005471072 -0.6260377781240922]\n",
      " [1.0 0.0 0.0 1.0084538079529848 1.013042950055349]\n",
      " [1.0 0.0 0.0 1.791296656175248 1.8325833141450698]\n",
      " [0.0 1.0 0.0 -1.7314961608249362 -1.0943465576039326]\n",
      " [1.0 0.0 0.0 -0.36152117643597576 0.4276569757055486]\n",
      " [0.0 1.0 0.0 0.22561095973072165 0.05040823668012208]\n",
      " [0.0 0.0 1.0 -0.16581046438040992 -0.274806193514212]\n",
      " [0.0 0.0 1.0 -0.013591021670525259 -1.328500947343853]]\n",
      "[[0.0 1.0 0.0 49.99999999999999 83000.0]\n",
      " [0.0 0.0 1.0 26.999999999999996 48000.0]]\n"
     ]
    }
   ],
   "execution_count": 20
  }
 ],
 "metadata": {
  "kernelspec": {
   "display_name": "Python 3",
   "language": "python",
   "name": "python3"
  },
  "language_info": {
   "codemirror_mode": {
    "name": "ipython",
    "version": 2
   },
   "file_extension": ".py",
   "mimetype": "text/x-python",
   "name": "python",
   "nbconvert_exporter": "python",
   "pygments_lexer": "ipython2",
   "version": "2.7.6"
  }
 },
 "nbformat": 4,
 "nbformat_minor": 5
}
